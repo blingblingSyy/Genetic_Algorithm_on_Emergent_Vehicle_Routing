{
 "cells": [
  {
   "cell_type": "markdown",
   "id": "552cde02",
   "metadata": {},
   "source": [
    "# 1. Seperated Vehicles "
   ]
  },
  {
   "cell_type": "markdown",
   "id": "9b9b4f86",
   "metadata": {},
   "source": [
    "## 1.1 Parameters"
   ]
  },
  {
   "cell_type": "markdown",
   "id": "13bb1906",
   "metadata": {},
   "source": [
    "#### Known parameters"
   ]
  },
  {
   "cell_type": "markdown",
   "id": "74119072",
   "metadata": {},
   "source": [
    "$k$: index of vehicles ($k$ = 1, 2, 3, 4, ..., $K$) \n",
    "\n",
    "$D_m$: demand of Customer $m$\n",
    "\n",
    "$L_{k\\_00\\_mn}$: for vehicle $k$, the distance and time it goes from depot to Customer $ij$ ($j$ = 1, 2, ..., $D_j$; $n$ = 1, 2, ..., $D_n$)\n",
    "\n",
    "$S_{k\\_ij}$: for vehicle $k$, the service time for Customer $mn$ ($S_{k\\_ij}$ = $S_{k\\_in}$)\n",
    "\n",
    "$DT$: the due time of depot\n",
    "\n",
    "$AT_{ij}$: early time window of Customer $ij$\n",
    "\n",
    "$ET_{ij}$: late time window of Customer $ij$\n",
    "\n",
    "$c$: unit cost of one unsaved person\n",
    "\n",
    "$w$: waiting cost per unit time per vehicle"
   ]
  },
  {
   "cell_type": "markdown",
   "id": "8b927770",
   "metadata": {},
   "source": [
    "#### Decision variables"
   ]
  },
  {
   "cell_type": "markdown",
   "id": "9e35b9c4",
   "metadata": {},
   "source": [
    "$C_{k\\_ij\\_mn}$: vehicle $k$ serve Customer $mn$ after serving Customer $ij$ ($j$ = 1, 2, ..., $D_j$; $n$ = 1, 2, ..., $D_n$) (0-1 variable)\n",
    "\n",
    "$C_{k\\_00\\_mn}$: vehicle $k$ start from depot and serve Customer $mn$ (start) (0-1 variable)\n",
    "\n",
    "$C_{k\\_ij\\_00}$: vehicle $k$ serve Customer $ij$ and return to depot (end) (0-1 variable)\n",
    "\n",
    "$x_{ij}$: vehicle waiting time for Customer $ij$ before its early time window"
   ]
  },
  {
   "cell_type": "markdown",
   "id": "e0b6f683",
   "metadata": {},
   "source": [
    "#### Other parameters"
   ]
  },
  {
   "cell_type": "markdown",
   "id": "15462c2a",
   "metadata": {},
   "source": [
    "$E_{k\\_ij\\_mn}$: for vehicle $k$, the elapsed time before serving Customer $mn$ after serving Customer $mn$"
   ]
  },
  {
   "cell_type": "markdown",
   "id": "9c0820b4",
   "metadata": {},
   "source": [
    "## 1.2 Goal"
   ]
  },
  {
   "cell_type": "markdown",
   "id": "b376c618",
   "metadata": {},
   "source": [
    "$min$ total costs $\\Rightarrow$ $min$ ($w$ * total waiting cost + $c$ * total unsaved demand)\n",
    "\n",
    "$\\Rightarrow$ $min [w \\cdot \\sum_{i=1}^{N}\\sum_{j=1}^{D_i} x_{ij} + c \\cdot (\\sum_{m=1}^{N}D_m - \\sum_{k=1}^{K}\\sum_{m=1}^{N}\\sum_{n=1}^{D_m}\\sum_{i=1}^{N}\\sum_{j=1}^{D_i} C_{k\\_mn\\_ij}]$ "
   ]
  },
  {
   "cell_type": "markdown",
   "id": "8bc6a622",
   "metadata": {},
   "source": [
    "## 1.3 Constraints"
   ]
  },
  {
   "cell_type": "markdown",
   "id": "ae59999d",
   "metadata": {},
   "source": [
    "#### Path constraints"
   ]
  },
  {
   "cell_type": "markdown",
   "id": "efc1a2a2",
   "metadata": {},
   "source": [
    "$\\sum_{m=1}^{N}\\sum_{n=1}^{D_m}C_{k\\_mn\\_ij} \\leq 1$\n",
    "\n",
    "$\\sum_{i=1}^{N}\\sum_{j=1}^{D_i}C_{k\\_mn\\_ij} \\leq 1$\n",
    "\n",
    "$Start: \\sum_{m=1}^{N}\\sum_{n=1}^{D_m}C_{k\\_00\\_mn} = 1$\n",
    "\n",
    "$End: \\sum_{i=1}^{N}\\sum_{j=1}^{D_i}C_{k\\_ij\\_00} = 1$\n",
    "\n",
    "$Intermediate: \\sum_{m=1}^{N}\\sum_{n=1}^{D_m}C_{k\\_mn\\_ij} - \\sum_{m=1}^{N}\\sum_{n=1}^{D_m}C_{k\\_ij\\_mn} = 0 \\quad (C_{k\\_ij\\_ij} = 0)$\n",
    "\n",
    "$C_{k\\_mn\\_ij} + C_{k\\_ij\\_mn} \\leq 1$"
   ]
  },
  {
   "cell_type": "markdown",
   "id": "def277a8",
   "metadata": {},
   "source": [
    "#### Time constraints"
   ]
  },
  {
   "cell_type": "markdown",
   "id": "4482fb43",
   "metadata": {},
   "source": [
    "$E_{k\\_00\\_00} = 0$\n",
    "\n",
    "$E_{k\\_00\\_mn} = \\sum_{m=1}^{N}\\sum_{n=1}^{D_m} (2 L_{k\\_00\\_mn} + S_{k\\_mn}) C_{k\\_00\\_mn} $\n",
    "\n",
    "$E_{k\\_ij\\_mn} = \\sum_{m=1}^{N}\\sum_{n=1}^{D_m} (E_{k\\_pq\\_ij} + 2 L_{k\\_00\\_mn} + S_{k\\_mn}) C_{k\\_ij\\_mn} \\quad (p = 0, 1, ..., N; q = 0, 1, ..., D_q)$\n",
    "\n",
    "$E_{k\\_00\\_mn} \\leq DT$\n",
    "\n",
    "$E_{k\\_00\\_mn} - \\sum_{m=1}^{N}\\sum_{n=1}^{D_m}L_{k\\_00\\_mn}C_{k\\_00\\_mn} \\leq ET_{mn}$\n",
    "\n",
    "$E_{k\\_ij\\_mn} \\leq DT$\n",
    "\n",
    "$E_{k\\_ij\\_mn} - \\sum_{m=1}^{N}\\sum_{n=1}^{D_m}L_{k\\_00\\_mn}C_{k\\_ij\\_mn} \\leq ET_{mn}$\n",
    "\n",
    "$x_{ij} \\geq 0$\n",
    "\n",
    "$x_{ij} \\geq AT_{ij} - [E_{k\\_ij\\_mn} - \\sum_{m=1}^{N}\\sum_{n=1}^{D_m}(L_{k\\_00\\_mn} + S_{k\\_mn}) C_{k\\_ij\\_mn}]$"
   ]
  },
  {
   "cell_type": "markdown",
   "id": "7894002b",
   "metadata": {},
   "source": [
    "# 2. Integrated Vehicles"
   ]
  },
  {
   "cell_type": "markdown",
   "id": "d8a6a2d3",
   "metadata": {},
   "source": [
    "## 2.1 Parameters"
   ]
  },
  {
   "cell_type": "markdown",
   "id": "651b37cd",
   "metadata": {},
   "source": [
    "#### Known parameters"
   ]
  },
  {
   "cell_type": "markdown",
   "id": "f06586bc",
   "metadata": {},
   "source": [
    "$k$: number of vehicles \n",
    "\n",
    "$D_m$: demand of Customer $m$\n",
    "\n",
    "$L_{00\\_mn}$: for vehicle $k$, the distance and time it goes from depot to Customer $ij$ ($j$ = 1, 2, ..., $D_j$; $n$ = 1, 2, ..., $D_n$)\n",
    "\n",
    "$S_{ij}$: for vehicle $k$, the service time for Customer $mn$ ($S_{k\\_ij}$ = $S_{k\\_in}$)\n",
    "\n",
    "$DT$: the due time of depot\n",
    "\n",
    "$AT_{ij}$: early time window of Customer $ij$\n",
    "\n",
    "$ET_{ij}$: late time window of Customer $ij$\n",
    "\n",
    "$c$: unit cost of one unsaved person\n",
    "\n",
    "$w$: waiting cost per unit time per vehicle"
   ]
  },
  {
   "cell_type": "markdown",
   "id": "cce17348",
   "metadata": {},
   "source": [
    "#### Decision variables"
   ]
  },
  {
   "cell_type": "markdown",
   "id": "58f85ab6",
   "metadata": {},
   "source": [
    "$C_{ij\\_mn}$: integrated vehicle serve Customer $mn$ after serving Customer $ij$ ($j$ = 1, 2, ..., $D_j$; $n$ = 1, 2, ..., $D_n$) (0-1 variable)\n",
    "\n",
    "$C_{00\\_mn}$: integrated vehicle start from depot and serve Customer $mn$ (start) (0-1 variable)\n",
    "\n",
    "$C_{ij\\_00}$: integrated vehicle serve Customer $ij$ and return to depot (end) (0-1 variable)\n",
    "\n",
    "$x_{ij}$: integrated vehicle waiting time for Customer $ij$ before its early time window"
   ]
  },
  {
   "cell_type": "markdown",
   "id": "9abe2da6",
   "metadata": {},
   "source": [
    "#### Other parameters"
   ]
  },
  {
   "cell_type": "markdown",
   "id": "1e2ffb53",
   "metadata": {},
   "source": [
    "$E_{ij\\_mn}$: for vehicle $k$, the elapsed time before serving Customer $mn$ after serving Customer $mn$\n",
    "\n",
    "$ Y_m = \\left\\{\n",
    "\\begin{array}{rcl}\n",
    "D_m \\mid k && {D_m \\;\\%\\; k = 0}\\\\\n",
    "(D_m \\mid k) + 1 && {D_m \\;\\%\\; k \\neq 0}\n",
    "\\end{array} \\right.$\n",
    "\n",
    "$ D_{mn} = \\left\\{\n",
    "\\begin{array}{rcl}\n",
    "k && {n < Y_m}\\\\\n",
    "D_m - k(n-1) && {n = Y_m}\n",
    "\\end{array} \\right.$"
   ]
  },
  {
   "cell_type": "markdown",
   "id": "b228c4f3",
   "metadata": {},
   "source": [
    "## 2.2 Goal"
   ]
  },
  {
   "cell_type": "markdown",
   "id": "56864253",
   "metadata": {},
   "source": [
    "$min$ total costs $\\Rightarrow$ $min$ ($w$ * total waiting cost + $c$ * total unsaved demand)\n",
    "\n",
    "$\\Rightarrow$ $min [w\\cdot k\\cdot \\sum_{i=1}^{N}\\sum_{j=1}^{D_i} x_{ij} + c \\cdot (\\sum_{m=1}^{N}D_m - \\sum_{m=1}^{N}\\sum_{n=1}^{D_m}\\sum_{i=1}^{N}\\sum_{j=1}^{D_i} C_{k\\_mn\\_ij}\\cdot D_{ij}]$ "
   ]
  },
  {
   "cell_type": "markdown",
   "id": "9396f5d9",
   "metadata": {},
   "source": [
    "## 2.3 Constraints"
   ]
  },
  {
   "cell_type": "markdown",
   "id": "6fead571",
   "metadata": {},
   "source": [
    "#### Path constraints"
   ]
  },
  {
   "cell_type": "markdown",
   "id": "dd062d45",
   "metadata": {},
   "source": [
    "$\\sum_{m=1}^{N}\\sum_{n=1}^{D_m}C_{mn\\_ij} \\leq 1$\n",
    "\n",
    "$\\sum_{i=1}^{N}\\sum_{j=1}^{D_i}C_{mn\\_ij} \\leq 1$\n",
    "\n",
    "$Start: \\sum_{m=1}^{N}\\sum_{n=1}^{D_m}C_{00\\_mn} = 1$\n",
    "\n",
    "$End: \\sum_{i=1}^{N}\\sum_{j=1}^{D_i}C_{ij\\_00} = 1$\n",
    "\n",
    "$Intermediate: \\sum_{m=1}^{N}\\sum_{n=1}^{D_m}C_{mn\\_ij} - \\sum_{m=1}^{N}\\sum_{n=1}^{D_m}C_{ij\\_mn} = 0 \\quad (C_{ij\\_ij} = 0)$\n",
    "\n",
    "$C_{mn\\_ij} + C_{ij\\_mn} \\leq 1$"
   ]
  },
  {
   "cell_type": "markdown",
   "id": "f5bf9045",
   "metadata": {},
   "source": [
    "#### Time constraints"
   ]
  },
  {
   "cell_type": "markdown",
   "id": "22350246",
   "metadata": {},
   "source": [
    "$E_{00\\_00} = 0$\n",
    "\n",
    "$E_{00\\_mn} = \\sum_{m=1}^{N}\\sum_{n=1}^{Y_m} (2 L_{00\\_mn} + D_{mn}S_{mn}) C_{00\\_mn} $\n",
    "\n",
    "$E_{ij\\_mn} = \\sum_{m=1}^{N}\\sum_{n=1}^{D_m} (E_{pq\\_ij} + 2 L_{00\\_mn} + D_{mn}S_{mn}) C_{ij\\_mn} \\quad (p = 0, 1, ..., N; q = 0, 1, ..., D_q)$\n",
    "\n",
    "$E_{00\\_mn} \\leq DT$\n",
    "\n",
    "$E_{00\\_mn} - \\sum_{m=1}^{N}\\sum_{n=1}^{D_m}L_{00\\_mn}C_{00\\_mn} \\leq ET_{mn}$\n",
    "\n",
    "$E_{ij\\_mn} \\leq DT$\n",
    "\n",
    "$E_{ij\\_mn} - \\sum_{m=1}^{N}\\sum_{n=1}^{D_m}L_{00\\_mn}C_{ij\\_mn} \\leq ET_{mn}$\n",
    "\n",
    "$x_{ij} \\geq 0$\n",
    "\n",
    "$x_{ij} \\geq AT_{ij} - [E_{ij\\_mn} - \\sum_{m=1}^{N}\\sum_{n=1}^{D_m}(L_{00\\_mn} + D_{mn}S_{mn}) C_{ij\\_mn}]$"
   ]
  }
 ],
 "metadata": {
  "kernelspec": {
   "display_name": "Python 3",
   "language": "python",
   "name": "python3"
  },
  "language_info": {
   "codemirror_mode": {
    "name": "ipython",
    "version": 3
   },
   "file_extension": ".py",
   "mimetype": "text/x-python",
   "name": "python",
   "nbconvert_exporter": "python",
   "pygments_lexer": "ipython3",
   "version": "3.8.8"
  }
 },
 "nbformat": 4,
 "nbformat_minor": 5
}
